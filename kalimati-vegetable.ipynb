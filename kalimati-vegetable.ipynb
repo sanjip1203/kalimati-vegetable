{
 "cells": [
  {
   "cell_type": "code",
   "execution_count": 27,
   "metadata": {
    "_cell_guid": "b1076dfc-b9ad-4769-8c92-a6c4dae69d19",
    "_uuid": "8f2839f25d086af736a60e9eeb907d3b93b6e0e5",
    "execution": {
     "iopub.execute_input": "2025-03-14T14:56:28.725410Z",
     "iopub.status.busy": "2025-03-14T14:56:28.725007Z",
     "iopub.status.idle": "2025-03-14T14:56:28.731102Z",
     "shell.execute_reply": "2025-03-14T14:56:28.729448Z",
     "shell.execute_reply.started": "2025-03-14T14:56:28.725375Z"
    },
    "trusted": true
   },
   "outputs": [],
   "source": [
    "import pandas as pd \n",
    "import numpy as np \n",
    "import matplotlib.pyplot as plt \n",
    "import seaborn as sns \n"
   ]
  },
  {
   "cell_type": "code",
   "execution_count": 28,
   "metadata": {
    "execution": {
     "iopub.execute_input": "2025-03-14T14:56:28.733371Z",
     "iopub.status.busy": "2025-03-14T14:56:28.733003Z",
     "iopub.status.idle": "2025-03-14T14:56:29.035752Z",
     "shell.execute_reply": "2025-03-14T14:56:29.034631Z",
     "shell.execute_reply.started": "2025-03-14T14:56:28.733344Z"
    },
    "trusted": true
   },
   "outputs": [
    {
     "name": "stdout",
     "output_type": "stream",
     "text": [
      "   Unnamed: 0            Commodity        Date Unit  Minimum  Maximum  Average\n",
      "0           0   Tomato Big(Nepali)  2013-06-16   kg     35.0     40.0     37.5\n",
      "1           1  Tomato Small(Local)  2013-06-16   kg     26.0     32.0     29.0\n",
      "2           2           Potato Red  2013-06-16   kg     20.0     21.0     20.5\n",
      "3           3         Potato White  2013-06-16   kg     15.0     16.0     15.5\n",
      "4           4   Onion Dry (Indian)  2013-06-16   kg     28.0     30.0     29.0\n"
     ]
    }
   ],
   "source": [
    "# Update with the actual file name from Step 2\n",
    "file_path = \"2013(June)-september-2023-cleaned.csv\"\n",
    "\n",
    "# Load the dataset\n",
    "df = pd.read_csv(file_path)\n",
    "\n",
    "# Display first few rows\n",
    "print(df.head())\n"
   ]
  },
  {
   "cell_type": "code",
   "execution_count": 29,
   "metadata": {
    "execution": {
     "iopub.execute_input": "2025-03-14T14:56:29.037607Z",
     "iopub.status.busy": "2025-03-14T14:56:29.037302Z",
     "iopub.status.idle": "2025-03-14T14:56:29.068362Z",
     "shell.execute_reply": "2025-03-14T14:56:29.066941Z",
     "shell.execute_reply.started": "2025-03-14T14:56:29.037582Z"
    },
    "trusted": true
   },
   "outputs": [
    {
     "data": {
      "text/html": [
       "<div>\n",
       "<style scoped>\n",
       "    .dataframe tbody tr th:only-of-type {\n",
       "        vertical-align: middle;\n",
       "    }\n",
       "\n",
       "    .dataframe tbody tr th {\n",
       "        vertical-align: top;\n",
       "    }\n",
       "\n",
       "    .dataframe thead th {\n",
       "        text-align: right;\n",
       "    }\n",
       "</style>\n",
       "<table border=\"1\" class=\"dataframe\">\n",
       "  <thead>\n",
       "    <tr style=\"text-align: right;\">\n",
       "      <th></th>\n",
       "      <th>Commodity</th>\n",
       "      <th>Date</th>\n",
       "      <th>Unit</th>\n",
       "      <th>Minimum</th>\n",
       "      <th>Maximum</th>\n",
       "      <th>Average</th>\n",
       "    </tr>\n",
       "  </thead>\n",
       "  <tbody>\n",
       "    <tr>\n",
       "      <th>0</th>\n",
       "      <td>Tomato Big(Nepali)</td>\n",
       "      <td>2013-06-16</td>\n",
       "      <td>kg</td>\n",
       "      <td>35.0</td>\n",
       "      <td>40.0</td>\n",
       "      <td>37.5</td>\n",
       "    </tr>\n",
       "    <tr>\n",
       "      <th>1</th>\n",
       "      <td>Tomato Small(Local)</td>\n",
       "      <td>2013-06-16</td>\n",
       "      <td>kg</td>\n",
       "      <td>26.0</td>\n",
       "      <td>32.0</td>\n",
       "      <td>29.0</td>\n",
       "    </tr>\n",
       "    <tr>\n",
       "      <th>2</th>\n",
       "      <td>Potato Red</td>\n",
       "      <td>2013-06-16</td>\n",
       "      <td>kg</td>\n",
       "      <td>20.0</td>\n",
       "      <td>21.0</td>\n",
       "      <td>20.5</td>\n",
       "    </tr>\n",
       "    <tr>\n",
       "      <th>3</th>\n",
       "      <td>Potato White</td>\n",
       "      <td>2013-06-16</td>\n",
       "      <td>kg</td>\n",
       "      <td>15.0</td>\n",
       "      <td>16.0</td>\n",
       "      <td>15.5</td>\n",
       "    </tr>\n",
       "    <tr>\n",
       "      <th>4</th>\n",
       "      <td>Onion Dry (Indian)</td>\n",
       "      <td>2013-06-16</td>\n",
       "      <td>kg</td>\n",
       "      <td>28.0</td>\n",
       "      <td>30.0</td>\n",
       "      <td>29.0</td>\n",
       "    </tr>\n",
       "  </tbody>\n",
       "</table>\n",
       "</div>"
      ],
      "text/plain": [
       "             Commodity        Date Unit  Minimum  Maximum  Average\n",
       "0   Tomato Big(Nepali)  2013-06-16   kg     35.0     40.0     37.5\n",
       "1  Tomato Small(Local)  2013-06-16   kg     26.0     32.0     29.0\n",
       "2           Potato Red  2013-06-16   kg     20.0     21.0     20.5\n",
       "3         Potato White  2013-06-16   kg     15.0     16.0     15.5\n",
       "4   Onion Dry (Indian)  2013-06-16   kg     28.0     30.0     29.0"
      ]
     },
     "execution_count": 29,
     "metadata": {},
     "output_type": "execute_result"
    }
   ],
   "source": [
    "df1 = df.copy()\n",
    "df1 = df1.drop(\"Unnamed: 0\",axis=1)\n",
    "df1.head()"
   ]
  },
  {
   "cell_type": "code",
   "execution_count": 30,
   "metadata": {
    "execution": {
     "iopub.execute_input": "2025-03-14T14:56:29.070228Z",
     "iopub.status.busy": "2025-03-14T14:56:29.069836Z",
     "iopub.status.idle": "2025-03-14T14:56:29.127772Z",
     "shell.execute_reply": "2025-03-14T14:56:29.126731Z",
     "shell.execute_reply.started": "2025-03-14T14:56:29.070187Z"
    },
    "trusted": true
   },
   "outputs": [
    {
     "data": {
      "text/html": [
       "<div>\n",
       "<style scoped>\n",
       "    .dataframe tbody tr th:only-of-type {\n",
       "        vertical-align: middle;\n",
       "    }\n",
       "\n",
       "    .dataframe tbody tr th {\n",
       "        vertical-align: top;\n",
       "    }\n",
       "\n",
       "    .dataframe thead th {\n",
       "        text-align: right;\n",
       "    }\n",
       "</style>\n",
       "<table border=\"1\" class=\"dataframe\">\n",
       "  <thead>\n",
       "    <tr style=\"text-align: right;\">\n",
       "      <th></th>\n",
       "      <th>Minimum</th>\n",
       "      <th>Maximum</th>\n",
       "      <th>Average</th>\n",
       "    </tr>\n",
       "  </thead>\n",
       "  <tbody>\n",
       "    <tr>\n",
       "      <th>count</th>\n",
       "      <td>293641.000000</td>\n",
       "      <td>293641.000000</td>\n",
       "      <td>293641.000000</td>\n",
       "    </tr>\n",
       "    <tr>\n",
       "      <th>mean</th>\n",
       "      <td>96.316206</td>\n",
       "      <td>107.631008</td>\n",
       "      <td>102.094267</td>\n",
       "    </tr>\n",
       "    <tr>\n",
       "      <th>std</th>\n",
       "      <td>92.253919</td>\n",
       "      <td>101.631460</td>\n",
       "      <td>96.977592</td>\n",
       "    </tr>\n",
       "    <tr>\n",
       "      <th>min</th>\n",
       "      <td>0.000000</td>\n",
       "      <td>0.000000</td>\n",
       "      <td>0.000000</td>\n",
       "    </tr>\n",
       "    <tr>\n",
       "      <th>25%</th>\n",
       "      <td>40.000000</td>\n",
       "      <td>50.000000</td>\n",
       "      <td>45.000000</td>\n",
       "    </tr>\n",
       "    <tr>\n",
       "      <th>50%</th>\n",
       "      <td>70.000000</td>\n",
       "      <td>75.000000</td>\n",
       "      <td>72.500000</td>\n",
       "    </tr>\n",
       "    <tr>\n",
       "      <th>75%</th>\n",
       "      <td>110.000000</td>\n",
       "      <td>120.000000</td>\n",
       "      <td>116.670000</td>\n",
       "    </tr>\n",
       "    <tr>\n",
       "      <th>max</th>\n",
       "      <td>2800.000000</td>\n",
       "      <td>3000.000000</td>\n",
       "      <td>2900.000000</td>\n",
       "    </tr>\n",
       "  </tbody>\n",
       "</table>\n",
       "</div>"
      ],
      "text/plain": [
       "             Minimum        Maximum        Average\n",
       "count  293641.000000  293641.000000  293641.000000\n",
       "mean       96.316206     107.631008     102.094267\n",
       "std        92.253919     101.631460      96.977592\n",
       "min         0.000000       0.000000       0.000000\n",
       "25%        40.000000      50.000000      45.000000\n",
       "50%        70.000000      75.000000      72.500000\n",
       "75%       110.000000     120.000000     116.670000\n",
       "max      2800.000000    3000.000000    2900.000000"
      ]
     },
     "execution_count": 30,
     "metadata": {},
     "output_type": "execute_result"
    }
   ],
   "source": [
    "df1.describe()"
   ]
  },
  {
   "cell_type": "code",
   "execution_count": 31,
   "metadata": {
    "execution": {
     "iopub.execute_input": "2025-03-14T14:56:29.129063Z",
     "iopub.status.busy": "2025-03-14T14:56:29.128736Z",
     "iopub.status.idle": "2025-03-14T14:56:29.187918Z",
     "shell.execute_reply": "2025-03-14T14:56:29.186851Z",
     "shell.execute_reply.started": "2025-03-14T14:56:29.129037Z"
    },
    "trusted": true
   },
   "outputs": [
    {
     "name": "stdout",
     "output_type": "stream",
     "text": [
      "<class 'pandas.core.frame.DataFrame'>\n",
      "RangeIndex: 293641 entries, 0 to 293640\n",
      "Data columns (total 6 columns):\n",
      " #   Column     Non-Null Count   Dtype  \n",
      "---  ------     --------------   -----  \n",
      " 0   Commodity  293641 non-null  object \n",
      " 1   Date       293641 non-null  object \n",
      " 2   Unit       293641 non-null  object \n",
      " 3   Minimum    293641 non-null  float64\n",
      " 4   Maximum    293641 non-null  float64\n",
      " 5   Average    293641 non-null  float64\n",
      "dtypes: float64(3), object(3)\n",
      "memory usage: 13.4+ MB\n"
     ]
    }
   ],
   "source": [
    "df1.info()"
   ]
  },
  {
   "cell_type": "code",
   "execution_count": 32,
   "metadata": {
    "execution": {
     "iopub.execute_input": "2025-03-14T14:56:29.189482Z",
     "iopub.status.busy": "2025-03-14T14:56:29.189156Z",
     "iopub.status.idle": "2025-03-14T14:56:29.246609Z",
     "shell.execute_reply": "2025-03-14T14:56:29.245060Z",
     "shell.execute_reply.started": "2025-03-14T14:56:29.189455Z"
    },
    "trusted": true
   },
   "outputs": [
    {
     "data": {
      "text/plain": [
       "Commodity    0\n",
       "Date         0\n",
       "Unit         0\n",
       "Minimum      0\n",
       "Maximum      0\n",
       "Average      0\n",
       "dtype: int64"
      ]
     },
     "execution_count": 32,
     "metadata": {},
     "output_type": "execute_result"
    }
   ],
   "source": [
    "df1.isnull().sum()"
   ]
  },
  {
   "cell_type": "code",
   "execution_count": 33,
   "metadata": {
    "execution": {
     "iopub.execute_input": "2025-03-14T14:56:29.249460Z",
     "iopub.status.busy": "2025-03-14T14:56:29.249122Z",
     "iopub.status.idle": "2025-03-14T14:56:29.286497Z",
     "shell.execute_reply": "2025-03-14T14:56:29.285233Z",
     "shell.execute_reply.started": "2025-03-14T14:56:29.249430Z"
    },
    "trusted": true
   },
   "outputs": [
    {
     "data": {
      "text/plain": [
       "Cauli Local            3741\n",
       "Ginger                 3741\n",
       "Chilli Dry             3738\n",
       "Banana                 3733\n",
       "Coriander Green        3732\n",
       "                       ... \n",
       "Tree Tomato             109\n",
       "Water Melon(Dotted)      64\n",
       "Maize                    24\n",
       "Sweet Lime               23\n",
       "Musk Melon               10\n",
       "Name: Commodity, Length: 136, dtype: int64"
      ]
     },
     "execution_count": 33,
     "metadata": {},
     "output_type": "execute_result"
    }
   ],
   "source": [
    "## type of commodity\n",
    "df1['Commodity'].value_counts()"
   ]
  },
  {
   "cell_type": "code",
   "execution_count": 34,
   "metadata": {
    "execution": {
     "iopub.execute_input": "2025-03-14T14:56:29.289285Z",
     "iopub.status.busy": "2025-03-14T14:56:29.288804Z",
     "iopub.status.idle": "2025-03-14T14:56:29.331352Z",
     "shell.execute_reply": "2025-03-14T14:56:29.329872Z",
     "shell.execute_reply.started": "2025-03-14T14:56:29.289241Z"
    },
    "trusted": true
   },
   "outputs": [
    {
     "data": {
      "text/plain": [
       "136"
      ]
     },
     "execution_count": 34,
     "metadata": {},
     "output_type": "execute_result"
    }
   ],
   "source": [
    "## number of commodity\n",
    "len(df1['Commodity'].value_counts())"
   ]
  },
  {
   "cell_type": "markdown",
   "metadata": {},
   "source": [
    "there are 136 different types of commodity"
   ]
  },
  {
   "cell_type": "code",
   "execution_count": 35,
   "metadata": {
    "execution": {
     "iopub.execute_input": "2025-03-14T14:56:29.333017Z",
     "iopub.status.busy": "2025-03-14T14:56:29.332587Z",
     "iopub.status.idle": "2025-03-14T14:56:29.370149Z",
     "shell.execute_reply": "2025-03-14T14:56:29.368319Z",
     "shell.execute_reply.started": "2025-03-14T14:56:29.332983Z"
    },
    "trusted": true
   },
   "outputs": [
    {
     "data": {
      "text/html": [
       "<div>\n",
       "<style scoped>\n",
       "    .dataframe tbody tr th:only-of-type {\n",
       "        vertical-align: middle;\n",
       "    }\n",
       "\n",
       "    .dataframe tbody tr th {\n",
       "        vertical-align: top;\n",
       "    }\n",
       "\n",
       "    .dataframe thead th {\n",
       "        text-align: right;\n",
       "    }\n",
       "</style>\n",
       "<table border=\"1\" class=\"dataframe\">\n",
       "  <thead>\n",
       "    <tr style=\"text-align: right;\">\n",
       "      <th></th>\n",
       "      <th>Commodity</th>\n",
       "      <th>Date</th>\n",
       "      <th>Unit</th>\n",
       "      <th>Minimum</th>\n",
       "      <th>Maximum</th>\n",
       "      <th>Average</th>\n",
       "    </tr>\n",
       "  </thead>\n",
       "  <tbody>\n",
       "    <tr>\n",
       "      <th>0</th>\n",
       "      <td>Tomato Big(Nepali)</td>\n",
       "      <td>2013-06-16</td>\n",
       "      <td>kg</td>\n",
       "      <td>35.0</td>\n",
       "      <td>40.0</td>\n",
       "      <td>37.5</td>\n",
       "    </tr>\n",
       "    <tr>\n",
       "      <th>1</th>\n",
       "      <td>Tomato Small(Local)</td>\n",
       "      <td>2013-06-16</td>\n",
       "      <td>kg</td>\n",
       "      <td>26.0</td>\n",
       "      <td>32.0</td>\n",
       "      <td>29.0</td>\n",
       "    </tr>\n",
       "    <tr>\n",
       "      <th>2</th>\n",
       "      <td>Potato Red</td>\n",
       "      <td>2013-06-16</td>\n",
       "      <td>kg</td>\n",
       "      <td>20.0</td>\n",
       "      <td>21.0</td>\n",
       "      <td>20.5</td>\n",
       "    </tr>\n",
       "    <tr>\n",
       "      <th>3</th>\n",
       "      <td>Potato White</td>\n",
       "      <td>2013-06-16</td>\n",
       "      <td>kg</td>\n",
       "      <td>15.0</td>\n",
       "      <td>16.0</td>\n",
       "      <td>15.5</td>\n",
       "    </tr>\n",
       "    <tr>\n",
       "      <th>4</th>\n",
       "      <td>Onion Dry (Indian)</td>\n",
       "      <td>2013-06-16</td>\n",
       "      <td>kg</td>\n",
       "      <td>28.0</td>\n",
       "      <td>30.0</td>\n",
       "      <td>29.0</td>\n",
       "    </tr>\n",
       "  </tbody>\n",
       "</table>\n",
       "</div>"
      ],
      "text/plain": [
       "             Commodity        Date Unit  Minimum  Maximum  Average\n",
       "0   Tomato Big(Nepali)  2013-06-16   kg     35.0     40.0     37.5\n",
       "1  Tomato Small(Local)  2013-06-16   kg     26.0     32.0     29.0\n",
       "2           Potato Red  2013-06-16   kg     20.0     21.0     20.5\n",
       "3         Potato White  2013-06-16   kg     15.0     16.0     15.5\n",
       "4   Onion Dry (Indian)  2013-06-16   kg     28.0     30.0     29.0"
      ]
     },
     "execution_count": 35,
     "metadata": {},
     "output_type": "execute_result"
    }
   ],
   "source": [
    "df1.head()"
   ]
  },
  {
   "cell_type": "code",
   "execution_count": 36,
   "metadata": {
    "execution": {
     "iopub.execute_input": "2025-03-14T14:56:29.371948Z",
     "iopub.status.busy": "2025-03-14T14:56:29.371477Z",
     "iopub.status.idle": "2025-03-14T14:56:29.403016Z",
     "shell.execute_reply": "2025-03-14T14:56:29.400960Z",
     "shell.execute_reply.started": "2025-03-14T14:56:29.371905Z"
    },
    "trusted": true
   },
   "outputs": [
    {
     "data": {
      "text/plain": [
       "str"
      ]
     },
     "execution_count": 36,
     "metadata": {},
     "output_type": "execute_result"
    }
   ],
   "source": [
    "type(df1['Date'][0])\n"
   ]
  },
  {
   "cell_type": "code",
   "execution_count": 37,
   "metadata": {
    "execution": {
     "iopub.execute_input": "2025-03-14T14:56:29.404761Z",
     "iopub.status.busy": "2025-03-14T14:56:29.404335Z",
     "iopub.status.idle": "2025-03-14T14:56:29.459363Z",
     "shell.execute_reply": "2025-03-14T14:56:29.458289Z",
     "shell.execute_reply.started": "2025-03-14T14:56:29.404720Z"
    },
    "trusted": true
   },
   "outputs": [
    {
     "data": {
      "text/plain": [
       "pandas._libs.tslibs.timestamps.Timestamp"
      ]
     },
     "execution_count": 37,
     "metadata": {},
     "output_type": "execute_result"
    }
   ],
   "source": [
    "df1['Date'] = pd.to_datetime(df1['Date'])\n",
    "type(df1['Date'][0])\n"
   ]
  },
  {
   "cell_type": "code",
   "execution_count": 38,
   "metadata": {
    "execution": {
     "iopub.execute_input": "2025-03-14T14:56:29.461115Z",
     "iopub.status.busy": "2025-03-14T14:56:29.460604Z",
     "iopub.status.idle": "2025-03-14T14:56:29.505967Z",
     "shell.execute_reply": "2025-03-14T14:56:29.504679Z",
     "shell.execute_reply.started": "2025-03-14T14:56:29.461045Z"
    },
    "trusted": true
   },
   "outputs": [
    {
     "data": {
      "text/html": [
       "<div>\n",
       "<style scoped>\n",
       "    .dataframe tbody tr th:only-of-type {\n",
       "        vertical-align: middle;\n",
       "    }\n",
       "\n",
       "    .dataframe tbody tr th {\n",
       "        vertical-align: top;\n",
       "    }\n",
       "\n",
       "    .dataframe thead th {\n",
       "        text-align: right;\n",
       "    }\n",
       "</style>\n",
       "<table border=\"1\" class=\"dataframe\">\n",
       "  <thead>\n",
       "    <tr style=\"text-align: right;\">\n",
       "      <th></th>\n",
       "      <th>Commodity</th>\n",
       "      <th>Date</th>\n",
       "      <th>Unit</th>\n",
       "      <th>Minimum</th>\n",
       "      <th>Maximum</th>\n",
       "      <th>Average</th>\n",
       "      <th>days</th>\n",
       "      <th>Month</th>\n",
       "      <th>Year</th>\n",
       "    </tr>\n",
       "  </thead>\n",
       "  <tbody>\n",
       "    <tr>\n",
       "      <th>0</th>\n",
       "      <td>Tomato Big(Nepali)</td>\n",
       "      <td>2013-06-16</td>\n",
       "      <td>kg</td>\n",
       "      <td>35.0</td>\n",
       "      <td>40.0</td>\n",
       "      <td>37.5</td>\n",
       "      <td>16</td>\n",
       "      <td>6</td>\n",
       "      <td>2013</td>\n",
       "    </tr>\n",
       "    <tr>\n",
       "      <th>1</th>\n",
       "      <td>Tomato Small(Local)</td>\n",
       "      <td>2013-06-16</td>\n",
       "      <td>kg</td>\n",
       "      <td>26.0</td>\n",
       "      <td>32.0</td>\n",
       "      <td>29.0</td>\n",
       "      <td>16</td>\n",
       "      <td>6</td>\n",
       "      <td>2013</td>\n",
       "    </tr>\n",
       "    <tr>\n",
       "      <th>2</th>\n",
       "      <td>Potato Red</td>\n",
       "      <td>2013-06-16</td>\n",
       "      <td>kg</td>\n",
       "      <td>20.0</td>\n",
       "      <td>21.0</td>\n",
       "      <td>20.5</td>\n",
       "      <td>16</td>\n",
       "      <td>6</td>\n",
       "      <td>2013</td>\n",
       "    </tr>\n",
       "    <tr>\n",
       "      <th>3</th>\n",
       "      <td>Potato White</td>\n",
       "      <td>2013-06-16</td>\n",
       "      <td>kg</td>\n",
       "      <td>15.0</td>\n",
       "      <td>16.0</td>\n",
       "      <td>15.5</td>\n",
       "      <td>16</td>\n",
       "      <td>6</td>\n",
       "      <td>2013</td>\n",
       "    </tr>\n",
       "    <tr>\n",
       "      <th>4</th>\n",
       "      <td>Onion Dry (Indian)</td>\n",
       "      <td>2013-06-16</td>\n",
       "      <td>kg</td>\n",
       "      <td>28.0</td>\n",
       "      <td>30.0</td>\n",
       "      <td>29.0</td>\n",
       "      <td>16</td>\n",
       "      <td>6</td>\n",
       "      <td>2013</td>\n",
       "    </tr>\n",
       "  </tbody>\n",
       "</table>\n",
       "</div>"
      ],
      "text/plain": [
       "             Commodity       Date Unit  Minimum  Maximum  Average  days  \\\n",
       "0   Tomato Big(Nepali) 2013-06-16   kg     35.0     40.0     37.5    16   \n",
       "1  Tomato Small(Local) 2013-06-16   kg     26.0     32.0     29.0    16   \n",
       "2           Potato Red 2013-06-16   kg     20.0     21.0     20.5    16   \n",
       "3         Potato White 2013-06-16   kg     15.0     16.0     15.5    16   \n",
       "4   Onion Dry (Indian) 2013-06-16   kg     28.0     30.0     29.0    16   \n",
       "\n",
       "   Month  Year  \n",
       "0      6  2013  \n",
       "1      6  2013  \n",
       "2      6  2013  \n",
       "3      6  2013  \n",
       "4      6  2013  "
      ]
     },
     "execution_count": 38,
     "metadata": {},
     "output_type": "execute_result"
    }
   ],
   "source": [
    "# Create new features like day of the year, month, or hour if necessary\n",
    "df1['days'] = df1['Date'].dt.day\n",
    "df1['Month'] = df1['Date'].dt.month\n",
    "df1['Year'] = df1['Date'].dt.year\n",
    "df1.head()"
   ]
  },
  {
   "cell_type": "code",
   "execution_count": 39,
   "metadata": {
    "execution": {
     "iopub.execute_input": "2025-03-14T14:56:29.507604Z",
     "iopub.status.busy": "2025-03-14T14:56:29.507266Z",
     "iopub.status.idle": "2025-03-14T14:56:29.538322Z",
     "shell.execute_reply": "2025-03-14T14:56:29.537168Z",
     "shell.execute_reply.started": "2025-03-14T14:56:29.507575Z"
    },
    "trusted": true
   },
   "outputs": [
    {
     "data": {
      "text/html": [
       "<div>\n",
       "<style scoped>\n",
       "    .dataframe tbody tr th:only-of-type {\n",
       "        vertical-align: middle;\n",
       "    }\n",
       "\n",
       "    .dataframe tbody tr th {\n",
       "        vertical-align: top;\n",
       "    }\n",
       "\n",
       "    .dataframe thead th {\n",
       "        text-align: right;\n",
       "    }\n",
       "</style>\n",
       "<table border=\"1\" class=\"dataframe\">\n",
       "  <thead>\n",
       "    <tr style=\"text-align: right;\">\n",
       "      <th></th>\n",
       "      <th>Year</th>\n",
       "      <th>Commodity</th>\n",
       "    </tr>\n",
       "  </thead>\n",
       "  <tbody>\n",
       "    <tr>\n",
       "      <th>0</th>\n",
       "      <td>2013</td>\n",
       "      <td>10896</td>\n",
       "    </tr>\n",
       "    <tr>\n",
       "      <th>1</th>\n",
       "      <td>2014</td>\n",
       "      <td>22170</td>\n",
       "    </tr>\n",
       "    <tr>\n",
       "      <th>2</th>\n",
       "      <td>2015</td>\n",
       "      <td>25161</td>\n",
       "    </tr>\n",
       "    <tr>\n",
       "      <th>3</th>\n",
       "      <td>2016</td>\n",
       "      <td>25596</td>\n",
       "    </tr>\n",
       "    <tr>\n",
       "      <th>4</th>\n",
       "      <td>2017</td>\n",
       "      <td>24124</td>\n",
       "    </tr>\n",
       "    <tr>\n",
       "      <th>5</th>\n",
       "      <td>2018</td>\n",
       "      <td>23295</td>\n",
       "    </tr>\n",
       "    <tr>\n",
       "      <th>6</th>\n",
       "      <td>2019</td>\n",
       "      <td>26197</td>\n",
       "    </tr>\n",
       "    <tr>\n",
       "      <th>7</th>\n",
       "      <td>2020</td>\n",
       "      <td>26622</td>\n",
       "    </tr>\n",
       "    <tr>\n",
       "      <th>8</th>\n",
       "      <td>2021</td>\n",
       "      <td>47387</td>\n",
       "    </tr>\n",
       "    <tr>\n",
       "      <th>9</th>\n",
       "      <td>2022</td>\n",
       "      <td>35084</td>\n",
       "    </tr>\n",
       "    <tr>\n",
       "      <th>10</th>\n",
       "      <td>2023</td>\n",
       "      <td>27109</td>\n",
       "    </tr>\n",
       "  </tbody>\n",
       "</table>\n",
       "</div>"
      ],
      "text/plain": [
       "    Year  Commodity\n",
       "0   2013      10896\n",
       "1   2014      22170\n",
       "2   2015      25161\n",
       "3   2016      25596\n",
       "4   2017      24124\n",
       "5   2018      23295\n",
       "6   2019      26197\n",
       "7   2020      26622\n",
       "8   2021      47387\n",
       "9   2022      35084\n",
       "10  2023      27109"
      ]
     },
     "execution_count": 39,
     "metadata": {},
     "output_type": "execute_result"
    }
   ],
   "source": [
    "## year group \n",
    "time = df1.groupby(\"Year\")['Commodity'].count()\n",
    "time= pd.DataFrame(time)\n",
    "time=time.reset_index()\n",
    "time\n"
   ]
  },
  {
   "cell_type": "code",
   "execution_count": 40,
   "metadata": {
    "execution": {
     "iopub.execute_input": "2025-03-14T14:56:29.540238Z",
     "iopub.status.busy": "2025-03-14T14:56:29.539813Z",
     "iopub.status.idle": "2025-03-14T14:56:29.812940Z",
     "shell.execute_reply": "2025-03-14T14:56:29.811850Z",
     "shell.execute_reply.started": "2025-03-14T14:56:29.540197Z"
    },
    "trusted": true
   },
   "outputs": [
    {
     "data": {
      "image/png": "[encoded data removed]",
      "text/plain": [
       "<Figure size 1000x1000 with 1 Axes>"
      ]
     },
     "metadata": {},
     "output_type": "display_data"
    }
   ],
   "source": [
    "## barplot of every year commodity\n",
    "plt.figure(figsize=(10,10))\n",
    "sns.barplot(y=time['Commodity'],x=time['Year'])\n",
    "plt.title(\"every year commodity rate\")\n",
    "plt.show()"
   ]
  },
  {
   "cell_type": "code",
   "execution_count": 41,
   "metadata": {
    "execution": {
     "iopub.execute_input": "2025-03-14T14:56:29.814488Z",
     "iopub.status.busy": "2025-03-14T14:56:29.814099Z",
     "iopub.status.idle": "2025-03-14T14:56:29.828869Z",
     "shell.execute_reply": "2025-03-14T14:56:29.827547Z",
     "shell.execute_reply.started": "2025-03-14T14:56:29.814451Z"
    },
    "trusted": true
   },
   "outputs": [
    {
     "data": {
      "text/html": [
       "<div>\n",
       "<style scoped>\n",
       "    .dataframe tbody tr th:only-of-type {\n",
       "        vertical-align: middle;\n",
       "    }\n",
       "\n",
       "    .dataframe tbody tr th {\n",
       "        vertical-align: top;\n",
       "    }\n",
       "\n",
       "    .dataframe thead th {\n",
       "        text-align: right;\n",
       "    }\n",
       "</style>\n",
       "<table border=\"1\" class=\"dataframe\">\n",
       "  <thead>\n",
       "    <tr style=\"text-align: right;\">\n",
       "      <th></th>\n",
       "      <th>Commodity</th>\n",
       "      <th>Date</th>\n",
       "      <th>Unit</th>\n",
       "      <th>Minimum</th>\n",
       "      <th>Maximum</th>\n",
       "      <th>Average</th>\n",
       "      <th>days</th>\n",
       "      <th>Month</th>\n",
       "      <th>Year</th>\n",
       "    </tr>\n",
       "  </thead>\n",
       "  <tbody>\n",
       "    <tr>\n",
       "      <th>0</th>\n",
       "      <td>Tomato Big(Nepali)</td>\n",
       "      <td>2013-06-16</td>\n",
       "      <td>kg</td>\n",
       "      <td>35.0</td>\n",
       "      <td>40.0</td>\n",
       "      <td>37.5</td>\n",
       "      <td>16</td>\n",
       "      <td>6</td>\n",
       "      <td>2013</td>\n",
       "    </tr>\n",
       "    <tr>\n",
       "      <th>1</th>\n",
       "      <td>Tomato Small(Local)</td>\n",
       "      <td>2013-06-16</td>\n",
       "      <td>kg</td>\n",
       "      <td>26.0</td>\n",
       "      <td>32.0</td>\n",
       "      <td>29.0</td>\n",
       "      <td>16</td>\n",
       "      <td>6</td>\n",
       "      <td>2013</td>\n",
       "    </tr>\n",
       "    <tr>\n",
       "      <th>2</th>\n",
       "      <td>Potato Red</td>\n",
       "      <td>2013-06-16</td>\n",
       "      <td>kg</td>\n",
       "      <td>20.0</td>\n",
       "      <td>21.0</td>\n",
       "      <td>20.5</td>\n",
       "      <td>16</td>\n",
       "      <td>6</td>\n",
       "      <td>2013</td>\n",
       "    </tr>\n",
       "    <tr>\n",
       "      <th>3</th>\n",
       "      <td>Potato White</td>\n",
       "      <td>2013-06-16</td>\n",
       "      <td>kg</td>\n",
       "      <td>15.0</td>\n",
       "      <td>16.0</td>\n",
       "      <td>15.5</td>\n",
       "      <td>16</td>\n",
       "      <td>6</td>\n",
       "      <td>2013</td>\n",
       "    </tr>\n",
       "    <tr>\n",
       "      <th>4</th>\n",
       "      <td>Onion Dry (Indian)</td>\n",
       "      <td>2013-06-16</td>\n",
       "      <td>kg</td>\n",
       "      <td>28.0</td>\n",
       "      <td>30.0</td>\n",
       "      <td>29.0</td>\n",
       "      <td>16</td>\n",
       "      <td>6</td>\n",
       "      <td>2013</td>\n",
       "    </tr>\n",
       "  </tbody>\n",
       "</table>\n",
       "</div>"
      ],
      "text/plain": [
       "             Commodity       Date Unit  Minimum  Maximum  Average  days  \\\n",
       "0   Tomato Big(Nepali) 2013-06-16   kg     35.0     40.0     37.5    16   \n",
       "1  Tomato Small(Local) 2013-06-16   kg     26.0     32.0     29.0    16   \n",
       "2           Potato Red 2013-06-16   kg     20.0     21.0     20.5    16   \n",
       "3         Potato White 2013-06-16   kg     15.0     16.0     15.5    16   \n",
       "4   Onion Dry (Indian) 2013-06-16   kg     28.0     30.0     29.0    16   \n",
       "\n",
       "   Month  Year  \n",
       "0      6  2013  \n",
       "1      6  2013  \n",
       "2      6  2013  \n",
       "3      6  2013  \n",
       "4      6  2013  "
      ]
     },
     "execution_count": 41,
     "metadata": {},
     "output_type": "execute_result"
    }
   ],
   "source": [
    "df1.head()"
   ]
  },
  {
   "cell_type": "code",
   "execution_count": 42,
   "metadata": {
    "execution": {
     "iopub.execute_input": "2025-03-14T14:56:29.830729Z",
     "iopub.status.busy": "2025-03-14T14:56:29.830373Z",
     "iopub.status.idle": "2025-03-14T14:56:29.863314Z",
     "shell.execute_reply": "2025-03-14T14:56:29.862171Z",
     "shell.execute_reply.started": "2025-03-14T14:56:29.830698Z"
    },
    "trusted": true
   },
   "outputs": [
    {
     "data": {
      "text/html": [
       "<div>\n",
       "<style scoped>\n",
       "    .dataframe tbody tr th:only-of-type {\n",
       "        vertical-align: middle;\n",
       "    }\n",
       "\n",
       "    .dataframe tbody tr th {\n",
       "        vertical-align: top;\n",
       "    }\n",
       "\n",
       "    .dataframe thead th {\n",
       "        text-align: right;\n",
       "    }\n",
       "</style>\n",
       "<table border=\"1\" class=\"dataframe\">\n",
       "  <thead>\n",
       "    <tr style=\"text-align: right;\">\n",
       "      <th></th>\n",
       "      <th>Commodity</th>\n",
       "      <th>Date</th>\n",
       "      <th>Unit</th>\n",
       "      <th>Minimum</th>\n",
       "      <th>Maximum</th>\n",
       "      <th>Average</th>\n",
       "      <th>days</th>\n",
       "      <th>Month</th>\n",
       "      <th>Year</th>\n",
       "    </tr>\n",
       "  </thead>\n",
       "  <tbody>\n",
       "    <tr>\n",
       "      <th>0</th>\n",
       "      <td>Tomato Big(Nepali)</td>\n",
       "      <td>2013-06-16</td>\n",
       "      <td>kg</td>\n",
       "      <td>35.0</td>\n",
       "      <td>40.0</td>\n",
       "      <td>37.5</td>\n",
       "      <td>16</td>\n",
       "      <td>6</td>\n",
       "      <td>2013</td>\n",
       "    </tr>\n",
       "    <tr>\n",
       "      <th>1</th>\n",
       "      <td>Tomato Small(Local)</td>\n",
       "      <td>2013-06-16</td>\n",
       "      <td>kg</td>\n",
       "      <td>26.0</td>\n",
       "      <td>32.0</td>\n",
       "      <td>29.0</td>\n",
       "      <td>16</td>\n",
       "      <td>6</td>\n",
       "      <td>2013</td>\n",
       "    </tr>\n",
       "    <tr>\n",
       "      <th>2</th>\n",
       "      <td>Potato Red</td>\n",
       "      <td>2013-06-16</td>\n",
       "      <td>kg</td>\n",
       "      <td>20.0</td>\n",
       "      <td>21.0</td>\n",
       "      <td>20.5</td>\n",
       "      <td>16</td>\n",
       "      <td>6</td>\n",
       "      <td>2013</td>\n",
       "    </tr>\n",
       "    <tr>\n",
       "      <th>3</th>\n",
       "      <td>Potato White</td>\n",
       "      <td>2013-06-16</td>\n",
       "      <td>kg</td>\n",
       "      <td>15.0</td>\n",
       "      <td>16.0</td>\n",
       "      <td>15.5</td>\n",
       "      <td>16</td>\n",
       "      <td>6</td>\n",
       "      <td>2013</td>\n",
       "    </tr>\n",
       "    <tr>\n",
       "      <th>4</th>\n",
       "      <td>Onion Dry (Indian)</td>\n",
       "      <td>2013-06-16</td>\n",
       "      <td>kg</td>\n",
       "      <td>28.0</td>\n",
       "      <td>30.0</td>\n",
       "      <td>29.0</td>\n",
       "      <td>16</td>\n",
       "      <td>6</td>\n",
       "      <td>2013</td>\n",
       "    </tr>\n",
       "    <tr>\n",
       "      <th>...</th>\n",
       "      <td>...</td>\n",
       "      <td>...</td>\n",
       "      <td>...</td>\n",
       "      <td>...</td>\n",
       "      <td>...</td>\n",
       "      <td>...</td>\n",
       "      <td>...</td>\n",
       "      <td>...</td>\n",
       "      <td>...</td>\n",
       "    </tr>\n",
       "    <tr>\n",
       "      <th>10891</th>\n",
       "      <td>Garlic Dry Chinese</td>\n",
       "      <td>2013-12-31</td>\n",
       "      <td>kg</td>\n",
       "      <td>100.0</td>\n",
       "      <td>105.0</td>\n",
       "      <td>102.5</td>\n",
       "      <td>31</td>\n",
       "      <td>12</td>\n",
       "      <td>2013</td>\n",
       "    </tr>\n",
       "    <tr>\n",
       "      <th>10892</th>\n",
       "      <td>Garlic Dry Nepali</td>\n",
       "      <td>2013-12-31</td>\n",
       "      <td>kg</td>\n",
       "      <td>85.0</td>\n",
       "      <td>90.0</td>\n",
       "      <td>87.5</td>\n",
       "      <td>31</td>\n",
       "      <td>12</td>\n",
       "      <td>2013</td>\n",
       "    </tr>\n",
       "    <tr>\n",
       "      <th>10893</th>\n",
       "      <td>Clive Dry</td>\n",
       "      <td>2013-12-31</td>\n",
       "      <td>kg</td>\n",
       "      <td>150.0</td>\n",
       "      <td>160.0</td>\n",
       "      <td>155.0</td>\n",
       "      <td>31</td>\n",
       "      <td>12</td>\n",
       "      <td>2013</td>\n",
       "    </tr>\n",
       "    <tr>\n",
       "      <th>10894</th>\n",
       "      <td>Clive Green</td>\n",
       "      <td>2013-12-31</td>\n",
       "      <td>kg</td>\n",
       "      <td>110.0</td>\n",
       "      <td>120.0</td>\n",
       "      <td>115.0</td>\n",
       "      <td>31</td>\n",
       "      <td>12</td>\n",
       "      <td>2013</td>\n",
       "    </tr>\n",
       "    <tr>\n",
       "      <th>10895</th>\n",
       "      <td>Fish Fresh</td>\n",
       "      <td>2013-12-31</td>\n",
       "      <td>kg</td>\n",
       "      <td>220.0</td>\n",
       "      <td>230.0</td>\n",
       "      <td>225.0</td>\n",
       "      <td>31</td>\n",
       "      <td>12</td>\n",
       "      <td>2013</td>\n",
       "    </tr>\n",
       "  </tbody>\n",
       "</table>\n",
       "<p>10896 rows × 9 columns</p>\n",
       "</div>"
      ],
      "text/plain": [
       "                 Commodity       Date Unit  Minimum  Maximum  Average  days  \\\n",
       "0       Tomato Big(Nepali) 2013-06-16   kg     35.0     40.0     37.5    16   \n",
       "1      Tomato Small(Local) 2013-06-16   kg     26.0     32.0     29.0    16   \n",
       "2               Potato Red 2013-06-16   kg     20.0     21.0     20.5    16   \n",
       "3             Potato White 2013-06-16   kg     15.0     16.0     15.5    16   \n",
       "4       Onion Dry (Indian) 2013-06-16   kg     28.0     30.0     29.0    16   \n",
       "...                    ...        ...  ...      ...      ...      ...   ...   \n",
       "10891   Garlic Dry Chinese 2013-12-31   kg    100.0    105.0    102.5    31   \n",
       "10892    Garlic Dry Nepali 2013-12-31   kg     85.0     90.0     87.5    31   \n",
       "10893            Clive Dry 2013-12-31   kg    150.0    160.0    155.0    31   \n",
       "10894          Clive Green 2013-12-31   kg    110.0    120.0    115.0    31   \n",
       "10895           Fish Fresh 2013-12-31   kg    220.0    230.0    225.0    31   \n",
       "\n",
       "       Month  Year  \n",
       "0          6  2013  \n",
       "1          6  2013  \n",
       "2          6  2013  \n",
       "3          6  2013  \n",
       "4          6  2013  \n",
       "...      ...   ...  \n",
       "10891     12  2013  \n",
       "10892     12  2013  \n",
       "10893     12  2013  \n",
       "10894     12  2013  \n",
       "10895     12  2013  \n",
       "\n",
       "[10896 rows x 9 columns]"
      ]
     },
     "execution_count": 42,
     "metadata": {},
     "output_type": "execute_result"
    }
   ],
   "source": [
    "df1[df1['Year']==2013]"
   ]
  },
  {
   "cell_type": "code",
   "execution_count": 43,
   "metadata": {
    "execution": {
     "iopub.execute_input": "2025-03-14T14:56:29.864786Z",
     "iopub.status.busy": "2025-03-14T14:56:29.864359Z",
     "iopub.status.idle": "2025-03-14T14:56:29.869751Z",
     "shell.execute_reply": "2025-03-14T14:56:29.868498Z",
     "shell.execute_reply.started": "2025-03-14T14:56:29.864705Z"
    },
    "trusted": true
   },
   "outputs": [],
   "source": [
    "\n",
    "def function(a) :\n",
    "    a = df1[df1['Year']==a]\n",
    "    return a"
   ]
  },
  {
   "cell_type": "code",
   "execution_count": 44,
   "metadata": {
    "execution": {
     "iopub.execute_input": "2025-03-14T14:56:29.871328Z",
     "iopub.status.busy": "2025-03-14T14:56:29.870925Z",
     "iopub.status.idle": "2025-03-14T14:56:29.922312Z",
     "shell.execute_reply": "2025-03-14T14:56:29.920792Z",
     "shell.execute_reply.started": "2025-03-14T14:56:29.871290Z"
    },
    "trusted": true
   },
   "outputs": [],
   "source": [
    "for a in range(2013,2023):\n",
    "    globals()[f\"year{a}\"]=function(a)\n",
    "    \n",
    "    "
   ]
  },
  {
   "cell_type": "code",
   "execution_count": 45,
   "metadata": {
    "execution": {
     "iopub.execute_input": "2025-03-14T14:56:29.926341Z",
     "iopub.status.busy": "2025-03-14T14:56:29.925958Z",
     "iopub.status.idle": "2025-03-14T14:56:29.956414Z",
     "shell.execute_reply": "2025-03-14T14:56:29.954640Z",
     "shell.execute_reply.started": "2025-03-14T14:56:29.926313Z"
    },
    "trusted": true
   },
   "outputs": [
    {
     "name": "stdout",
     "output_type": "stream",
     "text": [
      "[2013, 89]\n",
      "[2014, 94]\n",
      "[2015, 94]\n",
      "[2016, 91]\n",
      "[2017, 87]\n",
      "[2018, 86]\n",
      "[2019, 117]\n",
      "[2020, 125]\n",
      "[2021, 132]\n",
      "[2022, 133]\n"
     ]
    }
   ],
   "source": [
    "## every year commodity types\n",
    "for a in range(2013,2023):\n",
    "    b = len(globals()[f\"year{a}\"]['Commodity'].value_counts())\n",
    "    \n",
    "    print([a,b])"
   ]
  },
  {
   "cell_type": "markdown",
   "metadata": {},
   "source": [
    "number is commodity variety is increasing in every year"
   ]
  },
  {
   "cell_type": "code",
   "execution_count": 46,
   "metadata": {
    "execution": {
     "iopub.execute_input": "2025-03-14T14:56:29.957963Z",
     "iopub.status.busy": "2025-03-14T14:56:29.957659Z",
     "iopub.status.idle": "2025-03-14T14:56:29.983287Z",
     "shell.execute_reply": "2025-03-14T14:56:29.982066Z",
     "shell.execute_reply.started": "2025-03-14T14:56:29.957935Z"
    },
    "trusted": true
   },
   "outputs": [
    {
     "data": {
      "text/plain": [
       "Tomato Big(Nepali)    157\n",
       "Potato Red            157\n",
       "Potato White          157\n",
       "Onion Dry (Indian)    157\n",
       "Lime                  157\n",
       "                     ... \n",
       "Knolkhol               11\n",
       "Cauli Terai            10\n",
       "Drumstick               9\n",
       "Sweet Lime              3\n",
       "Mandarin                2\n",
       "Name: Commodity, Length: 89, dtype: int64"
      ]
     },
     "execution_count": 46,
     "metadata": {},
     "output_type": "execute_result"
    }
   ],
   "source": [
    "## every year high and lower price product \n",
    "year2013['Commodity'].value_counts()"
   ]
  },
  {
   "cell_type": "code",
   "execution_count": 47,
   "metadata": {
    "execution": {
     "iopub.execute_input": "2025-03-14T14:58:08.333036Z",
     "iopub.status.busy": "2025-03-14T14:58:08.332574Z",
     "iopub.status.idle": "2025-03-14T14:58:08.516191Z",
     "shell.execute_reply": "2025-03-14T14:58:08.514957Z",
     "shell.execute_reply.started": "2025-03-14T14:58:08.332995Z"
    },
    "trusted": true
   },
   "outputs": [
    {
     "data": {
      "text/plain": [
       "Onion Dry (Indian)      3711\n",
       "Papaya(Indian)          1629\n",
       "Potato Red(Indian)      1512\n",
       "Tomato Big(Indian)      1395\n",
       "Tomato Small(Indian)     887\n",
       "Orange(Indian)           761\n",
       "Litchi(Indian)           141\n",
       "Name: Commodity, dtype: int64"
      ]
     },
     "execution_count": 47,
     "metadata": {},
     "output_type": "execute_result"
    }
   ],
   "source": [
    "indian2013 = df1[df1['Commodity'].str.contains(\"indian\",case=False,na=False)]\n",
    "indian2013['Commodity'].value_counts()"
   ]
  },
  {
   "cell_type": "code",
   "execution_count": null,
   "metadata": {
    "trusted": true
   },
   "outputs": [],
   "source": []
  }
 ],
 "metadata": {
  "kaggle": {
   "accelerator": "none",
   "dataSources": [
    {
     "datasetId": 5991163,
     "sourceId": 9911146,
     "sourceType": "datasetVersion"
    }
   ],
   "dockerImageVersionId": 30918,
   "isGpuEnabled": false,
   "isInternetEnabled": true,
   "language": "python",
   "sourceType": "notebook"
  },
  "kernelspec": {
   "display_name": "base",
   "language": "python",
   "name": "python3"
  },
  "language_info": {
   "codemirror_mode": {
    "name": "ipython",
    "version": 3
   },
   "file_extension": ".py",
   "mimetype": "text/x-python",
   "name": "python",
   "nbconvert_exporter": "python",
   "pygments_lexer": "ipython3",
   "version": "3.10.14"
  }
 },
 "nbformat": 4,
 "nbformat_minor": 4
}
